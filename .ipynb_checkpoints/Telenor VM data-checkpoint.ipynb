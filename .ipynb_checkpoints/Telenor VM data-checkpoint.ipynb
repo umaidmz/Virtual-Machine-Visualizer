{
 "cells": [
  {
   "cell_type": "code",
   "execution_count": 203,
   "metadata": {},
   "outputs": [],
   "source": [
    "import pandas as pd\n",
    "import numpy as np\n",
    "import matplotlib.pyplot as plt"
   ]
  },
  {
   "cell_type": "code",
   "execution_count": 258,
   "metadata": {},
   "outputs": [],
   "source": [
    "df = pd.read_csv(\"isb_exp.csv\")"
   ]
  },
  {
   "cell_type": "code",
   "execution_count": 259,
   "metadata": {},
   "outputs": [
    {
     "name": "stdout",
     "output_type": "stream",
     "text": [
      "18\n"
     ]
    }
   ],
   "source": [
    "for i in range(len(df)):\n",
    "    if \"-\" in df[\"F1\"][i]:\n",
    "        df.drop(i, inplace=True)\n",
    "        print(i)\n",
    "\n",
    "df = df.reset_index(drop=True)"
   ]
  },
  {
   "cell_type": "code",
   "execution_count": 122,
   "metadata": {},
   "outputs": [],
   "source": [
    "headers = list(df)"
   ]
  },
  {
   "cell_type": "code",
   "execution_count": 170,
   "metadata": {},
   "outputs": [],
   "source": [
    "Memory =[]\n",
    "CPU_Data = {}\n",
    "\n",
    "for row_idx in range(len(df)):\n",
    "    CPU_Entry = []\n",
    "    cpu_col_idx = 3 #Total CPUs\n",
    "    col_idx = cpu_col_idx + 1  #Initializing the iterating variable\n",
    "    total_cpus = df[headers[start_col_idx]][row_idx] #Extract total CPUs for each row\n",
    "    \n",
    "    if \"'\" in df[headers[col_idx]][row_idx]: #Skipping over data which does not mention CPU sets and mislocated Memory Field\n",
    "        for i in range(col_idx, total_cpus+ col_idx):\n",
    "            entry = df[headers[i]][row_idx]\n",
    "            entry = entry.replace(\"'\", \"\")        \n",
    "            CPU_Entry.append(int(entry))\n",
    "        Memory.append(int(df[headers[total_cpus+col_idx]][row_idx]))\n",
    "    else:\n",
    "        Memory.append(int(df[headers[col_idx]][row_idx]))\n",
    "    CPU_Data[df['Instance UUID'][row_idx]] = CPU_Entry"
   ]
  },
  {
   "cell_type": "code",
   "execution_count": 179,
   "metadata": {},
   "outputs": [],
   "source": [
    "index = 4 #index of column \"F1\"\n",
    "for i in range(index, len(headers)):\n",
    "    df.drop(headers[i], axis=1, inplace=True)"
   ]
  },
  {
   "cell_type": "code",
   "execution_count": 181,
   "metadata": {},
   "outputs": [],
   "source": [
    "df[\"Memory\"] = Memory"
   ]
  },
  {
   "cell_type": "code",
   "execution_count": 193,
   "metadata": {},
   "outputs": [],
   "source": [
    "df.to_csv(r\"isb_exp_refined.csv\", index=False)"
   ]
  },
  {
   "cell_type": "code",
   "execution_count": 209,
   "metadata": {},
   "outputs": [],
   "source": [
    "compute_names = df[\"Compute Name\"].unique()"
   ]
  },
  {
   "cell_type": "code",
   "execution_count": 250,
   "metadata": {},
   "outputs": [
    {
     "name": "stderr",
     "output_type": "stream",
     "text": [
      "C:\\Anaconda\\lib\\site-packages\\pandas\\core\\frame.py:3997: SettingWithCopyWarning: \n",
      "A value is trying to be set on a copy of a slice from a DataFrame\n",
      "\n",
      "See the caveats in the documentation: https://pandas.pydata.org/pandas-docs/stable/user_guide/indexing.html#returning-a-view-versus-a-copy\n",
      "  errors=errors,\n"
     ]
    }
   ],
   "source": [
    "Compute_Data={}\n",
    "for compute in compute_names:\n",
    "    data = df.loc[df[\"Compute Name\"] == compute]\n",
    "    data.drop([\"Compute Name\", \"Instance UUID\"], axis=1, inplace=True)\n",
    "    Compute_Data[compute]= np.array(data)"
   ]
  },
  {
   "cell_type": "code",
   "execution_count": 277,
   "metadata": {},
   "outputs": [
    {
     "data": {
      "image/png": "[encoded data removed]",
      "text/plain": [
       "<Figure size 432x288 with 1 Axes>"
      ]
     },
     "metadata": {
      "needs_background": "light"
     },
     "output_type": "display_data"
    },
    {
     "data": {
      "image/png": "[encoded data removed]",
      "text/plain": [
       "<Figure size 432x288 with 1 Axes>"
      ]
     },
     "metadata": {
      "needs_background": "light"
     },
     "output_type": "display_data"
    }
   ],
   "source": [
    "fig = plt.figure()\n",
    "ax = fig.add_subplot(1, 1,1)\n",
    "for entry in Compute_Data[\"overcloud-AvrsReadyCompute-9\"]:\n",
    "    ax.scatter(entry[2], entry[1], label=entry[0])\n",
    "    ax.grid()\n",
    "    ax.legend()\n",
    "    \n",
    "fig = plt.figure()\n",
    "ax = fig.add_subplot(1, 1, 1)\n",
    "for entry in Compute_Data[\"overcloud-AvrsReadyCompute-10\"]:\n",
    "    ax.scatter(entry[2], entry[1], label=entry[0])\n",
    "    ax.grid()"
   ]
  },
  {
   "cell_type": "code",
   "execution_count": 252,
   "metadata": {},
   "outputs": [
    {
     "name": "stdout",
     "output_type": "stream",
     "text": [
      "['ZTE_xGW_PFU_25_4_0' 8 24576]\n",
      "['ZTE_UMAC_15_CMP_6_S' 8 26624]\n",
      "['ZTE_UMAC_15_CDB_4_R' 4 34816]\n"
     ]
    }
   ],
   "source": [
    "\n",
    "for entry in Compute_Data['overcloud-AvrsReadyCompute-9']:\n",
    "    print(entry)"
   ]
  },
  {
   "cell_type": "code",
   "execution_count": null,
   "metadata": {},
   "outputs": [],
   "source": []
  }
 ],
 "metadata": {
  "kernelspec": {
   "display_name": "Python 3",
   "language": "python",
   "name": "python3"
  },
  "language_info": {
   "codemirror_mode": {
    "name": "ipython",
    "version": 3
   },
   "file_extension": ".py",
   "mimetype": "text/x-python",
   "name": "python",
   "nbconvert_exporter": "python",
   "pygments_lexer": "ipython3",
   "version": "3.7.6"
  }
 },
 "nbformat": 4,
 "nbformat_minor": 4
}
